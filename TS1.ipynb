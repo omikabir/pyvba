{
 "cells": [
  {
   "cell_type": "code",
   "execution_count": 24,
   "metadata": {},
   "outputs": [
    {
     "name": "stdout",
     "output_type": "stream",
     "text": [
      "Index(['scode', 'state', 'thana', 'district'], dtype='object')\n",
      "<class 'pandas.core.frame.DataFrame'>\n",
      "here\n",
      "    PRODUCT BRAND  ZIPCODE          SHIPMENT         DELIVERY  scode   state\n",
      "0        Samsung   ABCDE01    9/11/2020 1:47  16/11/2020 6:24  ABCDE  1500.0\n",
      "1        Samsung   ABXYZ02    9/11/2020 3:43  18/11/2020 6:24  ABXYZ     NaN\n",
      "2        Samsung   CMTTS15    26/8/2020 5:21  20/11/2020 6:24  CMTTS     NaN\n",
      "3        Samsung   CGPTL18    9/11/2020 1:51  16/11/2020 6:24  CGPTL     NaN\n",
      "4        Samsung   CGBAK29    9/11/2020 0:18  15/11/2020 6:24  CGBAK     NaN\n",
      "..            ...      ...               ...              ...    ...     ...\n",
      "497          dell  DHLLB21   8/11/2020 11:56  26/11/2020 6:24  DHLLB     NaN\n",
      "498          dell  DHSTR14   8/11/2020 11:16  26/11/2020 6:24  DHSTR     NaN\n",
      "499          Acer  CDDMH01    2/9/2020 14:59  29/11/2020 6:24  CDDMH     NaN\n",
      "500          dell  NOCMP33    8/11/2020 1:04  16/11/2020 6:24  NOCMP     NaN\n",
      "501          Acer  ABXYZ03  26/10/2020 20:14   5/12/2020 6:24  ABXYZ     NaN\n",
      "\n",
      "[502 rows x 6 columns]\n"
     ]
    }
   ],
   "source": [
    "import pandas as pd\n",
    "import numpy as np\n",
    "import os\n",
    "import pyvba.fnsem as sem\n",
    "import pyvba.fnfn as fn\n",
    "from datetime import *\n",
    "\n",
    "db = os.getcwd() + \"\\\\pyvba\\\\scode_map.csv\"\n",
    "pt0 = os.getcwd() + \"\\\\book1.csv\"\n",
    "pt1 = os.getcwd() + \"\\\\practice_data\\\\100_Sales_Records.csv\"\n",
    "pt2 = os.getcwd() + \"\\\\practice_data\\\\items_price.csv\"\n",
    "pt3 = os.getcwd() + \"\\\\practice_data\\\\orders_details.csv\"\n",
    "\n",
    "dfdb = pd.read_csv(db)\n",
    "print(dfdb.columns)\n",
    "df = pd.read_csv(pt0)\n",
    "\n",
    "#df1 = pd.read_csv(pt1)\n",
    "#df2 = pd.read_csv(pt2)\n",
    "#df3 = pd.read_csv(pt3)\n",
    "\n",
    "df['scode'] = df.apply(lambda x : x.ZIPCODE[0:5], axis = 1)\n",
    "#inn_jdf = pd.merge(df,dfdb,on ='scode',how ='left')\n",
    "#print(inn_jdf)\n",
    "print(type(df))\n",
    "def vlookupx(df0,refdic,refcol,nwcol):\n",
    "    if isinstance(refdic,dict):\n",
    "        try:\n",
    "            df = add_col_df(df0, nwcol)\n",
    "            df[nwcol] = df.reset_index()[refcol].map(refdic).values\n",
    "            return df\n",
    "        except:\n",
    "            df = map_df_dic(df0,refdic,refcol,nwcol)\n",
    "            return df\n",
    "    else:\n",
    "        ndf = df0.merge(refdic, on=refcol)\n",
    "        return ndf\n",
    "\n",
    "my_dict = {'ABCDE':1500,'DHGUL':300,'KHSDR':150,'SYJNT':250}\n",
    "def vlookup(lookup_value_or_df, ref_df_or_dict, ref_match_col_name, ref_pic_pick_col_name):\n",
    "    if isinstance(lookup_value_or_df, pd.DataFrame):\n",
    "        print(\"here\")\n",
    "        if isinstance(ref_df_or_dict,dict):\n",
    "            lookup_value_or_df[ref_pic_pick_col_name] = lookup_value_or_df.reset_index()[ref_match_col_name].map(ref_df_or_dict).values\n",
    "            return lookup_value_or_df\n",
    "        else:\n",
    "            df = ref_df_or_dict[[ref_match_col_name,ref_pic_pick_col_name]]\n",
    "            print(df)\n",
    "            ndf = lookup_value_or_df.merge(df, on=ref_match_col_name)\n",
    "            return ndf                   \n",
    "    if isinstance(lookup_value_or_df, str):\n",
    "        try:\n",
    "            if isinstance(ref_df_or_dict,dict):\n",
    "                lsky = list(ref_df_or_dict.keys())\n",
    "                lsval = list(ref_df_or_dict.values())\n",
    "                indx = [i for i, x in enumerate(lsky) if x == lookup_value_or_df]\n",
    "                return lsval[indx[0]]\n",
    "            elif isinstance(ref_df_or_dict,pd.DataFrame):\n",
    "                list_as_range = ref_df_or_dict[ref_match_col_name].values.tolist()\n",
    "                pick_list = ref_df_or_dict[ref_pic_pick_col_name].values.tolist()\n",
    "                indx = [i for i, x in enumerate(list_as_range) if x == lookup_value_or_df]\n",
    "                return pick_list[indx[0]]\n",
    "        except:\n",
    "            return \"none\"\n",
    "            \n",
    "\n",
    "print(vlookup(df,my_dict,\"scode\",\"state\"))\n",
    "\n"
   ]
  },
  {
   "cell_type": "code",
   "execution_count": 7,
   "metadata": {},
   "outputs": [
    {
     "ename": "NameError",
     "evalue": "name 'pd' is not defined",
     "output_type": "error",
     "traceback": [
      "\u001b[1;31m---------------------------------------------------------------------------\u001b[0m",
      "\u001b[1;31mNameError\u001b[0m                                 Traceback (most recent call last)",
      "\u001b[1;32m<ipython-input-7-091fe6508b4e>\u001b[0m in \u001b[0;36m<module>\u001b[1;34m\u001b[0m\n\u001b[1;32m----> 1\u001b[1;33m df = pd.DataFrame([['Iphone','DHDEM26','11-09-2020 12:14','11-20-2020 12:24','400'],\n\u001b[0m\u001b[0;32m      2\u001b[0m ['Iphone','CGHTZ09',\n\u001b[0;32m      3\u001b[0m '11-09-2020 12:14','11-20-2020 12:24','400'],\n\u001b[0;32m      4\u001b[0m ['dell','LXRGN32',\n\u001b[0;32m      5\u001b[0m '11-09-2020 12:14','11-20-2020 12:24','300'],\n",
      "\u001b[1;31mNameError\u001b[0m: name 'pd' is not defined"
     ]
    }
   ],
   "source": [
    "df = pd.DataFrame([['Iphone','DHDEM26','11-09-2020 12:14','11-20-2020 12:24','400'],\n",
    "['Iphone','CGHTZ09',\n",
    "'11-09-2020 12:14','11-20-2020 12:24','400'],\n",
    "['dell','LXRGN32',\n",
    "'11-09-2020 12:14','11-20-2020 12:24','300'],\n",
    "['dell','DHDEM39',\n",
    " '11-09-2020 12:13','11-20-2020 12:24','300'],\n",
    "['Samsung ','SGSJP04',\n",
    " '11-09-2020 12:12','11-20-2020 12:24','250'],\n",
    "['Samsung ','CXMHK36',\n",
    " '11-09-2020 12:11','11-20-2020 12:24','250'],\n",
    "['Samsung ','CGFTK29',\n",
    " '11-09-2020 12:10','11-20-2020 12:24','250'],\n",
    "['dell','CGKTLB6',\n",
    " '11-09-2020 12:10','11-20-2020 12:24','300'],\n",
    "['dell','CMBRR57',\n",
    " '11-09-2020 12:10','11-20-2020 12:24','300']],\n",
    "    columns=('PRODUCT','ZIPCODE',\n",
    "            'SHIPMENT','DELIVERY','PRICE'))\n",
    "print(df)\n",
    "df1 = df[df.PRODUCT.str.contains('del')]\n",
    "print(df1)"
   ]
  },
  {
   "cell_type": "markdown",
   "metadata": {},
   "source": [
    "### filtering, shorting, remove duplicate"
   ]
  },
  {
   "cell_type": "code",
   "execution_count": null,
   "metadata": {},
   "outputs": [],
   "source": []
  },
  {
   "cell_type": "code",
   "execution_count": 5,
   "metadata": {},
   "outputs": [
    {
     "ename": "NameError",
     "evalue": "name 'df1' is not defined",
     "output_type": "error",
     "traceback": [
      "\u001b[1;31m---------------------------------------------------------------------------\u001b[0m",
      "\u001b[1;31mNameError\u001b[0m                                 Traceback (most recent call last)",
      "\u001b[1;32m<ipython-input-5-9ec480f27c01>\u001b[0m in \u001b[0;36m<module>\u001b[1;34m\u001b[0m\n\u001b[1;32m----> 1\u001b[1;33m \u001b[0mprint\u001b[0m\u001b[1;33m(\u001b[0m\u001b[0mdf1\u001b[0m\u001b[1;33m)\u001b[0m\u001b[1;33m\u001b[0m\u001b[1;33m\u001b[0m\u001b[0m\n\u001b[0m",
      "\u001b[1;31mNameError\u001b[0m: name 'df1' is not defined"
     ]
    }
   ],
   "source": []
  },
  {
   "cell_type": "code",
   "execution_count": null,
   "metadata": {},
   "outputs": [],
   "source": []
  },
  {
   "cell_type": "code",
   "execution_count": null,
   "metadata": {},
   "outputs": [],
   "source": []
  }
 ],
 "metadata": {
  "kernelspec": {
   "display_name": "Python 3",
   "language": "python",
   "name": "python3"
  },
  "language_info": {
   "codemirror_mode": {
    "name": "ipython",
    "version": 3
   },
   "file_extension": ".py",
   "mimetype": "text/x-python",
   "name": "python",
   "nbconvert_exporter": "python",
   "pygments_lexer": "ipython3",
   "version": "3.8.1"
  }
 },
 "nbformat": 4,
 "nbformat_minor": 4
}
